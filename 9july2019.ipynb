{
 "cells": [
  {
   "cell_type": "markdown",
   "metadata": {},
   "source": [
    "### Day objectives\n",
    " * python data structures\n",
    "    * lists\n",
    "    * tuples\n",
    "    * dictionaries\n",
    " * basic prgram sets on data structures\n",
    " * advanced problem set\n",
    " * contact application(dictionary object)\n",
    " ### Data Structures:\n",
    " * to store,search and sort the data"
   ]
  },
  {
   "cell_type": "markdown",
   "metadata": {},
   "source": [
    "### Python Data Structures\n",
    "#### lists\n",
    "* it is one of the common data structures supports by python, the list items are seperated by comma operater and enclodes in square brackets.\n",
    " * example:\n",
    "     *  list1=[1,3,6,8]\n",
    "     *  list2=[\"gitam\",10,23,15,\"hyd\"]"
   ]
  },
  {
   "cell_type": "code",
   "execution_count": 33,
   "metadata": {},
   "outputs": [
    {
     "name": "stdout",
     "output_type": "stream",
     "text": [
      "[1, 2, 3, 4]\n",
      "1\n",
      "2\n",
      "4\n",
      "[2, 3, 4]\n",
      "[3, 4]\n",
      "[2, 3, 4]\n",
      "[3, 4]\n"
     ]
    }
   ],
   "source": [
    "lst=[1,2,3,4]\n",
    "print(lst)# access the entire list\n",
    "print(lst[0])# access the first item in list\n",
    "print(lst[1])# access the second item in list\n",
    "print(lst[-1])# access the last item in list\n",
    "print(lst[1:])# access the all item after 1 in list\n",
    "print(lst[2:])# access all the items from 2nd item\n",
    "print(lst[1:4])# access all the numbers from 1 to end number\n",
    "print(lst[2:4])"
   ]
  },
  {
   "cell_type": "code",
   "execution_count": 34,
   "metadata": {},
   "outputs": [
    {
     "name": "stdout",
     "output_type": "stream",
     "text": [
      "['gitam', 'python', 1989, 2002]\n",
      "['gitam', 'python', 2019, 2002]\n"
     ]
    }
   ],
   "source": [
    "lst=[\"gitam\",\"python\",1989,2002] # updatind the list item values using index(direct referencing)\n",
    "print(lst)\n",
    "lst[2]=2019\n",
    "print(lst)\n"
   ]
  },
  {
   "cell_type": "code",
   "execution_count": 28,
   "metadata": {},
   "outputs": [
    {
     "name": "stdout",
     "output_type": "stream",
     "text": [
      "['gitam', 'python', 2019, 2002]\n",
      "['gitam', 'python', 2002]\n"
     ]
    }
   ],
   "source": [
    "# delete the specific item in the list\n",
    "print(lst)\n",
    "del lst[2]\n",
    "print(lst)"
   ]
  },
  {
   "cell_type": "code",
   "execution_count": 39,
   "metadata": {},
   "outputs": [
    {
     "name": "stdout",
     "output_type": "stream",
     "text": [
      "5\n",
      "[1, 2, 5, 8, 9, 1, 2, 5, 8, 9]\n",
      "5\n",
      "True\n",
      "False\n",
      "1 2 5 8 9 "
     ]
    }
   ],
   "source": [
    "# basic list operations\n",
    "lst=[1,2,5,8,9]\n",
    "print(len(lst)) #length of the list\n",
    "print(lst*2) # it duplicates the list two times\n",
    "print(len(lst)) # len doesnot change if it duplicates\n",
    "print(9 in lst) # checks for the number is present or not if present give true esle false\n",
    "print(19 in lst)\n",
    "# access the list items using iteration\n",
    "for x in range(len(lst)):\n",
    "    print(lst[x],end=\" \")"
   ]
  },
  {
   "cell_type": "code",
   "execution_count": null,
   "metadata": {},
   "outputs": [],
   "source": []
  }
 ],
 "metadata": {
  "kernelspec": {
   "display_name": "Python 3",
   "language": "python",
   "name": "python3"
  },
  "language_info": {
   "codemirror_mode": {
    "name": "ipython",
    "version": 3
   },
   "file_extension": ".py",
   "mimetype": "text/x-python",
   "name": "python",
   "nbconvert_exporter": "python",
   "pygments_lexer": "ipython3",
   "version": "3.7.3"
  }
 },
 "nbformat": 4,
 "nbformat_minor": 2
}
